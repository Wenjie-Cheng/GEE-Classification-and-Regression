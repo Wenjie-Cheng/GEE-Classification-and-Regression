{
 "cells": [
  {
   "cell_type": "markdown",
   "metadata": {},
   "source": [
    "## BGP Regression Assignment "
   ]
  },
  {
   "cell_type": "markdown",
   "metadata": {},
   "source": [
    "Wenjie Cheng\n",
    "\n",
    "October 2024"
   ]
  },
  {
   "cell_type": "markdown",
   "metadata": {},
   "source": [
    "### Connect to GEE"
   ]
  },
  {
   "cell_type": "code",
   "execution_count": 1,
   "metadata": {},
   "outputs": [],
   "source": [
    "import ee\n",
    "import geemap"
   ]
  },
  {
   "cell_type": "code",
   "execution_count": null,
   "metadata": {},
   "outputs": [],
   "source": [
    "ee.Authenticate()"
   ]
  },
  {
   "cell_type": "code",
   "execution_count": null,
   "metadata": {},
   "outputs": [],
   "source": [
    "try:\n",
    "    # Initialize the library.\n",
    "    ee.Initialize()\n",
    "    print('Google Earth Engine has initialized successfully!')\n",
    "except ee.EEException as e:\n",
    "    print('Google Earth Engine has failed to initialize!')\n",
    "except:\n",
    "    print(\"Unexpected error:\", sys.exc_info()[0])\n",
    "    raise"
   ]
  },
  {
   "cell_type": "markdown",
   "metadata": {},
   "source": [
    "### Define Study Area"
   ]
  },
  {
   "cell_type": "markdown",
   "metadata": {},
   "source": [
    "The study area is a region around Nirobi. The map cneter is National Museum of Kenya (36.81, -1.27)."
   ]
  },
  {
   "cell_type": "code",
   "execution_count": null,
   "metadata": {},
   "outputs": [],
   "source": [
    "Map = geemap.Map()\n",
    "Map.setCenter(36.81, -1.27,7)\n",
    "\n",
    "# the region of interest is a bounding box. Width: 1 degree. Height: 1 degree.\n",
    "Nirobi_Bbox = ee.Geometry.BBox(36.31, -1.77, 37.31, -0.77)\n",
    "Map.addLayer(Nirobi_Bbox, name = \"Study Region\")\n",
    "\n",
    "Map"
   ]
  },
  {
   "cell_type": "markdown",
   "metadata": {},
   "source": [
    "### Calculate Monthly NDVI"
   ]
  },
  {
   "cell_type": "code",
   "execution_count": null,
   "metadata": {},
   "outputs": [],
   "source": [
    "def calculate_NDVI(month:int):\n",
    "    start_date = \"2020-{}-01\".format(month)\n",
    "\n",
    "    if month in [1,3,5,7,8,10,12]:\n",
    "        end_date = \"2020-{}-31\".format(month)\n",
    "    elif month in [4,6,9,11]:\n",
    "        end_date = \"2020-{}-30\".format(month)\n",
    "    elif month == 2:\n",
    "        end_date = \"2020-{}-29\".format(month)\n",
    "    else:\n",
    "        print(\"Invalid Month\")\n",
    "\n",
    "    image = ee.ImageCollection(\"LANDSAT/LC08/C02/T1_L2\")  \\\n",
    "        .filterBounds(Nirobi_Bbox) \\\n",
    "        .filterDate(start_date, end_date) \\\n",
    "        .filterMetadata('CLOUD_COVER_LAND', 'less_than', 50) \\\n",
    "        .median()\n",
    "\n",
    "    ndvi = (image.select(\"SR_B5\").subtract(image.select(\"SR_B4\")).divide(image.select(\"SR_B5\").add(image.select(\"SR_B4\"))))\n",
    "    ndvi = ndvi.clip(Nirobi_Bbox)\n",
    "\n",
    "    # ndvi = ee.Image(str(month))\n",
    "            \n",
    "    return ndvi\n",
    "\n",
    "month = list(range(1,13))\n",
    "ndvi_list = []\n",
    "\n",
    "for m in month:\n",
    "    ndvi = calculate_NDVI(m)\n",
    "    ndvi_list.append(ndvi)\n",
    "\n",
    "ndvi_collection = ee.ImageCollection.fromImages(ndvi_list)\n",
    "\n",
    "vis_params = {\n",
    "    'min': -1,\n",
    "    'max': 1,\n",
    "    'palette': ['blue', 'white', 'green']\n",
    "}\n",
    "\n",
    "Map.addLayer(ndvi_collection.first(), vis_params, name = \"ndvi\")\n",
    "Map\n",
    "    \n",
    "    "
   ]
  },
  {
   "cell_type": "code",
   "execution_count": null,
   "metadata": {},
   "outputs": [],
   "source": [
    "ndvi_collection.size().getInfo()"
   ]
  },
  {
   "cell_type": "markdown",
   "metadata": {},
   "source": [
    "### Get SRTM"
   ]
  },
  {
   "cell_type": "code",
   "execution_count": null,
   "metadata": {},
   "outputs": [],
   "source": [
    "SRTM  = ee.Image('USGS/SRTMGL1_003').clip(Nirobi_Bbox)\n",
    "\n",
    "stats = geemap.image_stats(SRTM,region = Nirobi_Bbox).getInfo()\n",
    "\n",
    "SRTM_vis_params = {\n",
    "    \"min\": stats[\"min\"][\"elevation\"], \n",
    "    \"max\": stats[\"max\"][\"elevation\"], \n",
    "    \"palette\": [\"green\", \"yellow\", \"red\"]\n",
    "}\n",
    "\n",
    "Map.addLayer(SRTM, SRTM_vis_params, name = \"SRTM\")\n",
    "Map"
   ]
  },
  {
   "cell_type": "markdown",
   "metadata": {},
   "source": [
    "### Calculate Monthly Total Precipitation"
   ]
  },
  {
   "cell_type": "code",
   "execution_count": null,
   "metadata": {},
   "outputs": [],
   "source": [
    "def calculate_precipitation(month:int):\n",
    "    start_date = \"2020-{}-01\".format(month)\n",
    "\n",
    "    if month in [1,3,5,7,8,10,12]:\n",
    "        end_date = \"2020-{}-31\".format(month)\n",
    "    elif month in [4,6,9,11]:\n",
    "        end_date = \"2020-{}-30\".format(month)\n",
    "    elif month == 2:\n",
    "        end_date = \"2020-{}-29\".format(month)\n",
    "    else:\n",
    "        print(\"Invalid Month\")\n",
    "\n",
    "    precipitation = ee.ImageCollection(\"UCSB-CHG/CHIRPS/DAILY\")  \\\n",
    "        .filterBounds(Nirobi_Bbox) \\\n",
    "        .filterDate(start_date, end_date) \\\n",
    "        .sum()\n",
    "\n",
    "    precipitation = precipitation.clip(Nirobi_Bbox)\n",
    "            \n",
    "    return precipitation\n",
    "\n",
    "precipitation_list = []\n",
    "\n",
    "for m in month:\n",
    "    precipitation = calculate_precipitation(m)\n",
    "    precipitation_list.append(precipitation)\n",
    "\n",
    "precipitation_collection = ee.ImageCollection.fromImages(precipitation_list)\n",
    "\n",
    "precipitation_vis_params = {\n",
    "    'min': 0,\n",
    "    'max': 200,\n",
    "    'palette': ['red', 'yellow', 'blue']\n",
    "}\n",
    "\n",
    "Map.addLayer(precipitation_collection.first(), precipitation_vis_params, name = \"precipitation\") \n",
    "Map"
   ]
  },
  {
   "cell_type": "code",
   "execution_count": null,
   "metadata": {},
   "outputs": [],
   "source": [
    "precipitation_collection.size().getInfo()"
   ]
  },
  {
   "cell_type": "markdown",
   "metadata": {},
   "source": [
    "### Random Forest Regression"
   ]
  },
  {
   "cell_type": "code",
   "execution_count": null,
   "metadata": {},
   "outputs": [],
   "source": [
    "from sklearn.model_selection import train_test_split\n",
    "from sklearn.preprocessing import StandardScaler\n",
    "from sklearn.ensemble import RandomForestRegressor\n",
    "from sklearn.metrics import root_mean_squared_error\n",
    "import matplotlib.pyplot as plt\n",
    "\n",
    "def rf_regression(month):\n",
    "    \"\"\"Sample 1000 points from ndvi,SRTM and precipitation\n",
    "    develop a random forest model for predicting NDVI values based on  elevation and precipitation\n",
    "    \"\"\"\n",
    "    ndvi = calculate_NDVI(month)\n",
    "    precipitation = calculate_precipitation(month)\n",
    "\n",
    "    # sample points from SRTM\n",
    "    points = SRTM.sample(\n",
    "        region = Nirobi_Bbox, \n",
    "        scale = 30, \n",
    "        numPixels = 1000, \n",
    "        geometries=True\n",
    "    )\n",
    "\n",
    "    # get ndvi data\n",
    "    points = ndvi.sampleRegions(\n",
    "        collection = points,\n",
    "        scale = 30,\n",
    "        geometries=True\n",
    "    )\n",
    "\n",
    "    # get precipitation data\n",
    "    points = precipitation.sampleRegions(\n",
    "        collection = points,\n",
    "        scale = 5566,\n",
    "        geometries=True\n",
    "    )\n",
    "\n",
    "    #convert to pandas dataframe\n",
    "    df = geemap.ee_to_df(points)\n",
    "\n",
    "    # split dataset\n",
    "    Xtrain, Xtest, ytrain, ytest = train_test_split(df[[\"precipitation\",\"elevation\"]], df[\"SR_B5\"], test_size=0.3, random_state=1)\n",
    "\n",
    "    \n",
    "    scaler = StandardScaler()\n",
    "    scaler.fit(Xtrain)\n",
    "    Xtrain = scaler.transform(Xtrain)\n",
    "    Xtest = scaler.transform(Xtest)\n",
    "\n",
    "    # Random Forest Regression\n",
    "    reg = RandomForestRegressor(n_estimators = 500)\n",
    "\n",
    "    # train model\n",
    "    reg.fit(Xtrain, ytrain)\n",
    "\n",
    "    # predict\n",
    "    rf_predict = reg.predict(Xtest)\n",
    "\n",
    "    RMSE = root_mean_squared_error(ytest, rf_predict)\n",
    "    print(\"RMSE score of Month {} is\".format(month),RMSE)\n",
    "\n",
    "    # plot scatter \n",
    "    plt.scatter(rf_predict, ytest,c='b')\n",
    "    plt.scatter(ytest, ytest,c='k')\n",
    "    plt.title(\"Month\"+str(month))\n",
    "    plt.xlabel('Predicted Values')\n",
    "    plt.ylabel('Actual Values')\n",
    "    plt.show()\n"
   ]
  },
  {
   "cell_type": "code",
   "execution_count": null,
   "metadata": {},
   "outputs": [],
   "source": [
    "# result of month 1\n",
    "# rf_regression(1)\n",
    "\n",
    "# all result (around 2 minutes)\n",
    "for m in month:\n",
    "    rf_regression(m)"
   ]
  },
  {
   "cell_type": "code",
   "execution_count": null,
   "metadata": {},
   "outputs": [],
   "source": []
  }
 ],
 "metadata": {
  "kernelspec": {
   "display_name": "gee",
   "language": "python",
   "name": "python3"
  },
  "language_info": {
   "codemirror_mode": {
    "name": "ipython",
    "version": 3
   },
   "file_extension": ".py",
   "mimetype": "text/x-python",
   "name": "python",
   "nbconvert_exporter": "python",
   "pygments_lexer": "ipython3",
   "version": "3.13.0"
  }
 },
 "nbformat": 4,
 "nbformat_minor": 2
}
